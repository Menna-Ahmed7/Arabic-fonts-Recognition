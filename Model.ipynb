{
 "cells": [
  {
   "cell_type": "code",
   "execution_count": 17,
   "metadata": {},
   "outputs": [],
   "source": [
    "import numpy as np\n",
    "# import cv2"
   ]
  },
  {
   "cell_type": "code",
   "execution_count": 18,
   "metadata": {},
   "outputs": [],
   "source": [
    "from sklearn.ensemble import AdaBoostClassifier, RandomForestClassifier\n",
    "# from sklearn.neighbors import KNeighborsClassifier\n",
    "from sklearn.linear_model import RidgeClassifier\n",
    "from sklearn.svm import SVC\n",
    "# from sklearn.naive_bayes import MultinomialNB\n",
    "from sklearn.model_selection import train_test_split\n",
    "from sklearn.linear_model import LogisticRegression\n",
    "from sklearn.ensemble import RandomForestClassifier\n",
    "from sklearn.metrics import accuracy_score\n",
    "from sklearn.tree import DecisionTreeClassifier\n",
    "from sklearn.pipeline import Pipeline\n",
    "from sklearn.discriminant_analysis import LinearDiscriminantAnalysis as LDA\n",
    "# from sklearn.ensemble import GradientBoostingClassifier\n",
    "\n"
   ]
  },
  {
   "cell_type": "code",
   "execution_count": 19,
   "metadata": {},
   "outputs": [],
   "source": [
    "# %pip install catboost"
   ]
  },
  {
   "cell_type": "code",
   "execution_count": 20,
   "metadata": {},
   "outputs": [],
   "source": [
    "import pickle"
   ]
  },
  {
   "cell_type": "code",
   "execution_count": 21,
   "metadata": {},
   "outputs": [],
   "source": [
    "lda_pipeline = Pipeline([\n",
    "    ('LDA', LDA())  # LDA as the final step\n",
    "])"
   ]
  },
  {
   "cell_type": "markdown",
   "metadata": {},
   "source": [
    "## Trying multiple models"
   ]
  },
  {
   "cell_type": "code",
   "execution_count": 22,
   "metadata": {},
   "outputs": [],
   "source": [
    "models = {\n",
    "    \"Logistic Regression\": LogisticRegression(solver='liblinear', multi_class='ovr', max_iter=12000,dual=False,verbose=34,tol=1e-5),\n",
    "    \"LDA\": lda_pipeline,  # Assuming you have this defined elsewhere\n",
    "    \"Random Forest\": RandomForestClassifier(n_estimators=100, bootstrap=False, max_features=50),  # Already included\n",
    "    \"Decision Tree\": DecisionTreeClassifier(),\n",
    "    \"Ridge Classifier\": RidgeClassifier(),\n",
    "    \"AdaBoost Classifier\": AdaBoostClassifier(),  # You can add this line if not already present\n",
    "    \"SVM\": SVC(kernel='linear')\n",
    "}\n"
   ]
  },
  {
   "cell_type": "code",
   "execution_count": 23,
   "metadata": {},
   "outputs": [],
   "source": [
    "IBM_plex_features = np.load(\"IBM_plex_features_h.npy\")\n",
    "Lemonada_features = np.load(\"Lemonada_features_h.npy\")\n",
    "Marhey_features = np.load(\"Marhey_features_h.npy\")\n",
    "Scheherazade_features = np.load(\"Scheherazade_features_h.npy\")\n",
    "IBM_plex_labels = np.load(\"IBM_plex_labels_h.npy\")\n",
    "Lemonada_labels = np.load(\"Lemonada_labels_h.npy\")\n",
    "Marhey_labels = np.load(\"Marhey_labels_h.npy\")\n",
    "Scheherazade_labels = np.load(\"Scheherazade_labels_h.npy\")"
   ]
  },
  {
   "cell_type": "code",
   "execution_count": 24,
   "metadata": {},
   "outputs": [
    {
     "name": "stdout",
     "output_type": "stream",
     "text": [
      "(4000, 255)\n",
      "(4000,)\n"
     ]
    }
   ],
   "source": [
    "concatenated_features = [IBM_plex_features, Lemonada_features, Marhey_features, Scheherazade_features]\n",
    "concatenated_features = np.concatenate(concatenated_features, axis=0)\n",
    "print(concatenated_features.shape)\n",
    "concatenated_labels = [IBM_plex_labels, Lemonada_labels, Marhey_labels, Scheherazade_labels]\n",
    "concatenated_labels = np.concatenate(concatenated_labels, axis=0)\n",
    "print(concatenated_labels.shape)\n",
    "# print(Y_train[0],Y_train[1005],Y_train[2005],Y_train[3005])"
   ]
  },
  {
   "cell_type": "code",
   "execution_count": 25,
   "metadata": {},
   "outputs": [],
   "source": [
    "X_train, X_test, y_train, y_test = train_test_split(concatenated_features, concatenated_labels, test_size=0.2, random_state=42)\n"
   ]
  },
  {
   "cell_type": "code",
   "execution_count": 26,
   "metadata": {},
   "outputs": [
    {
     "name": "stdout",
     "output_type": "stream",
     "text": [
      "[LibLinear]Logistic Regression Accuracy: 0.9712\n",
      "LDA Accuracy: 0.8938\n",
      "Random Forest Accuracy: 0.9237\n",
      "Decision Tree Accuracy: 0.8263\n",
      "Ridge Classifier Accuracy: 0.9275\n",
      "AdaBoost Classifier Accuracy: 0.7125\n",
      "SVM Accuracy: 0.9600\n"
     ]
    }
   ],
   "source": [
    "for name, model in models.items():\n",
    "    model.fit(X_train, y_train)\n",
    "    y_pred = model.predict(X_test)\n",
    "    \n",
    "    accuracy = accuracy_score(y_test, y_pred)\n",
    "    print(f\"{name} Accuracy: {accuracy:.4f}\")\n",
    "    with open(f\"{name}.pkl\", \"wb\") as f:\n",
    "        pickle.dump(model, f)\n",
    "    # break    \n"
   ]
  }
 ],
 "metadata": {
  "kernelspec": {
   "display_name": "base",
   "language": "python",
   "name": "python3"
  },
  "language_info": {
   "codemirror_mode": {
    "name": "ipython",
    "version": 3
   },
   "file_extension": ".py",
   "mimetype": "text/x-python",
   "name": "python",
   "nbconvert_exporter": "python",
   "pygments_lexer": "ipython3",
   "version": "3.11.5"
  }
 },
 "nbformat": 4,
 "nbformat_minor": 2
}
